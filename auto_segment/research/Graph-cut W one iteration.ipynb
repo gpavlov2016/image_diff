{
 "cells": [
  {
   "cell_type": "code",
   "execution_count": 1,
   "metadata": {
    "collapsed": true
   },
   "outputs": [],
   "source": [
    "import numpy as np\n",
    "import scipy\n",
    "from scipy.misc import imread\n",
    "from matplotlib import pyplot as ppl\n",
    "\n",
    "import maxflow\n",
    "\n",
    "import pickle\n",
    "import numpy as np\n",
    "\n",
    "with open(\"../data/maps.pkl\", \"rb\") as in_f:\n",
    "    maps = pickle.load(in_f)\n",
    "W = np.loadtxt(\"../data/W.csv\", delimiter=',')"
   ]
  },
  {
   "cell_type": "code",
   "execution_count": 2,
   "metadata": {},
   "outputs": [
    {
     "name": "stdout",
     "output_type": "stream",
     "text": [
      "(216, 216)\n",
      "2712\n"
     ]
    }
   ],
   "source": [
    "print(W.shape)\n",
    "print(np.count_nonzero(W))"
   ]
  },
  {
   "cell_type": "code",
   "execution_count": 38,
   "metadata": {
    "collapsed": true
   },
   "outputs": [],
   "source": [
    "def get_msid_on_fixation_point(sp_map):\n",
    "    # fixation point is assumed to be at the center of the image.\n",
    "    init_obj_id = sp_map[int(sp_map.shape[0]/2.0), int(sp_map.shape[1]/2.0)]\n",
    "    return init_obj_id\n",
    "\n",
    "def create_graph(W):\n",
    "    g = maxflow.Graph[float](W.shape[0], np.count_nonzero(W))\n",
    "    nodes = g.add_nodes(W.shape[0])\n",
    "\n",
    "    for i in range(W.shape[0]):\n",
    "        for j in range(W.shape[1]):\n",
    "            if W[i, j] > 0:\n",
    "                g.add_edge(nodes[i], nodes[j], W[i, j], W[j, i])\n",
    "    return g, nodes\n",
    "g, nodes = create_graph(W)"
   ]
  },
  {
   "cell_type": "markdown",
   "metadata": {},
   "source": [
    "### Using all nodes as source and sink"
   ]
  },
  {
   "cell_type": "code",
   "execution_count": 42,
   "metadata": {
    "scrolled": false
   },
   "outputs": [
    {
     "data": {
      "image/png": "[encoded data removed]",
      "text/plain": [
       "<matplotlib.figure.Figure at 0x7f401ac27e80>"
      ]
     },
     "metadata": {},
     "output_type": "display_data"
    },
    {
     "data": {
      "image/png": "[encoded data removed]",
      "text/plain": [
       "<matplotlib.figure.Figure at 0x7f401a663438>"
      ]
     },
     "metadata": {},
     "output_type": "display_data"
    },
    {
     "data": {
      "image/png": "[encoded data removed]",
      "text/plain": [
       "<matplotlib.figure.Figure at 0x7f401a719748>"
      ]
     },
     "metadata": {},
     "output_type": "display_data"
    }
   ],
   "source": [
    "import sys\n",
    "sys.path.append(\"../\")\n",
    "import superpixels as sp\n",
    "import visualization as viz\n",
    "from matplotlib import pyplot as plt\n",
    "\n",
    "num_bg = 10\n",
    "\n",
    "spm = sp.SuperpixelsMaps(maps)\n",
    "\n",
    "obj_ids = []\n",
    "for map_id, sp_map in enumerate(maps):\n",
    "    msid = get_msid_on_fixation_point(sp_map)\n",
    "    sid = spm.msid2sid(map_id, msid)\n",
    "    obj_ids.append(sid)\n",
    "\n",
    "bg_ids = spm.pick_random_except(obj_ids, num_bg)\n",
    "\n",
    "for obj_id in obj_ids:\n",
    "    g.add_tedge(nodes[obj_id], 1000, 0)\n",
    "\n",
    "for bg_id in bg_ids:\n",
    "    g.add_tedge(nodes[bg_id], 0, 1000)\n",
    "    \n",
    "g.maxflow()\n",
    "\n",
    "obj_map_msids = [] # [[msids of map 1], [msids of map 2], etc.]\n",
    "bg_map_msids = []\n",
    "\n",
    "for i, node in enumerate(nodes):\n",
    "    seg = g.get_segment(node)\n",
    "    map_id, msid = spm.sid2msid(i)\n",
    "    if seg == 0:\n",
    "        if len(obj_map_msids) <= map_id:\n",
    "            obj_map_msids.append([])\n",
    "        obj_map_msids[map_id].append(msid)\n",
    "    else:\n",
    "        if len(bg_map_msids) <= map_id:\n",
    "            bg_map_msids.append([])\n",
    "        bg_map_msids[map_id].append(msid)\n",
    "\n",
    "for map_id, msids in enumerate(obj_map_msids):\n",
    "    img = viz.highlight_superpixels_hsl(maps[map_id], msids)\n",
    "    plt.figure()\n",
    "    plt.imshow(img)\n",
    "    \n",
    "plt.show()"
   ]
  },
  {
   "cell_type": "code",
   "execution_count": 43,
   "metadata": {},
   "outputs": [
    {
     "name": "stdout",
     "output_type": "stream",
     "text": [
      "[42, 113, 185]\n",
      "[[42], [41, 42, 54], [0, 1, 2, 3, 4, 5, 6, 7, 8, 9, 12, 13, 14, 16, 18, 19, 20, 21, 22, 23, 24, 25, 26, 27, 28, 30, 31, 32, 33, 34, 35, 36, 38, 39, 40, 41, 42, 43, 44, 45, 47, 48, 49, 50, 51, 52, 53, 55, 56, 58, 59, 60, 61, 62, 63, 64, 65, 66, 67, 68, 70, 71]]\n"
     ]
    }
   ],
   "source": [
    "print(obj_ids)\n",
    "print(obj_map_msids)"
   ]
  },
  {
   "cell_type": "markdown",
   "metadata": {},
   "source": []
  },
  {
   "cell_type": "markdown",
   "metadata": {},
   "source": [
    "### One node for source and another for sink"
   ]
  },
  {
   "cell_type": "code",
   "execution_count": null,
   "metadata": {
    "collapsed": true
   },
   "outputs": [],
   "source": [
    "num_bg = 10\n",
    "\n",
    "spm = sp.SuperpixelsMaps(maps)\n",
    "\n",
    "obj_ids = []\n",
    "for map_id, sp_map in enumerate(maps):\n",
    "    msid = get_msid_on_fixation_point(sp_map)\n",
    "    sid = spm.msid2sid(map_id, msid)\n",
    "    obj_ids.append(sid)\n",
    "\n",
    "bg_ids = spm.pick_random_except(obj_ids, num_bg)\n",
    "\n",
    "for obj_id in obj_ids:\n",
    "    g.add_tedge(nodes[obj_id], 1000, 0)\n",
    "\n",
    "for bg_id in bg_ids:\n",
    "    g.add_tedge(nodes[bg_id], 0, 1000)\n",
    "    \n",
    "g.maxflow()\n",
    "\n",
    "obj_map_msids = [] # [[msids of map 1], [msids of map 2], etc.]\n",
    "bg_map_msids = []\n",
    "\n",
    "for i, node in enumerate(nodes):\n",
    "    seg = g.get_segment(node)\n",
    "    map_id, msid = spm.sid2msid(i)\n",
    "    if seg == 0:\n",
    "        if len(obj_map_msids) <= map_id:\n",
    "            obj_map_msids.append([])\n",
    "        obj_map_msids[map_id].append(msid)\n",
    "    else:\n",
    "        if len(bg_map_msids) <= map_id:\n",
    "            bg_map_msids.append([])\n",
    "        bg_map_msids[map_id].append(msid)\n",
    "\n",
    "for map_id, msids in enumerate(obj_map_msids):\n",
    "    img = viz.highlight_superpixels_hsl(maps[map_id], msids)\n",
    "    plt.figure()\n",
    "    plt.imshow(img)\n",
    "    \n",
    "plt.show()"
   ]
  }
 ],
 "metadata": {
  "kernelspec": {
   "display_name": "Python 3",
   "language": "python",
   "name": "python3"
  },
  "language_info": {
   "codemirror_mode": {
    "name": "ipython",
    "version": 3
   },
   "file_extension": ".py",
   "mimetype": "text/x-python",
   "name": "python",
   "nbconvert_exporter": "python",
   "pygments_lexer": "ipython3",
   "version": "3.6.3"
  }
 },
 "nbformat": 4,
 "nbformat_minor": 2
}
