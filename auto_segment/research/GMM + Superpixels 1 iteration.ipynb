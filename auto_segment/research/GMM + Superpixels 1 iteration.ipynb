{
 "cells": [
  {
   "cell_type": "code",
   "execution_count": 74,
   "metadata": {
    "collapsed": true
   },
   "outputs": [],
   "source": [
    "from sklearn.mixture import GaussianMixture\n",
    "import cv2\n",
    "import imageio\n",
    "import numpy as np\n",
    "import pdb\n",
    "import math\n",
    "import pylab as plt\n",
    "\n",
    "import sys\n",
    "sys.path.append(\"../\");\n",
    "import superpixels as sp\n",
    "from helpers import get_smaller_image\n",
    "\n",
    "filename = '../data/toothpick.mp4'\n",
    "vid = imageio.get_reader(filename, 'ffmpeg')"
   ]
  },
  {
   "cell_type": "code",
   "execution_count": 90,
   "metadata": {
    "collapsed": true
   },
   "outputs": [],
   "source": [
    "def process_superpixel(superpixel):\n",
    "    \"\"\" Process superpixel for training data\n",
    "    \"\"\"\n",
    "    return superpixel\n",
    "\n",
    "def calculate_score(clf_o, clf_b, superpixel):\n",
    "    score_o = math.exp(clf_o.score(np.array(superpixel)))\n",
    "    score_b = math.exp(clf_b.score(np.array(superpixel)))\n",
    "#     return (score_o / (score_o + score_b))\n",
    "    if (score_o + score_b) == 0:\n",
    "        return 0\n",
    "    else:\n",
    "        return (score_o / (score_o + score_b))\n",
    "    \n",
    "def display_superpixels(image, mask, sp_ids):\n",
    "    out = np.zeros(image.shape).astype(np.uint8) # astype is needed otherwise show weird colors.\n",
    "    idx = np.zeros(mask.shape)\n",
    "    for i in sp_ids:\n",
    "        idx = (mask==i)\n",
    "        out[idx] = image[idx]\n",
    "    plt.imshow(out)"
   ]
  },
  {
   "cell_type": "code",
   "execution_count": 91,
   "metadata": {},
   "outputs": [
    {
     "name": "stdout",
     "output_type": "stream",
     "text": [
      "[[ 76.11658654  75.87259615  68.45552885]]\n",
      "[[ 143.32792208  137.42316017  120.57251082]]\n"
     ]
    }
   ],
   "source": [
    "# List of superpixel maps \n",
    "maps_list = []\n",
    "\n",
    "# List of Edge Adjacency Matrix\n",
    "W = []\n",
    "\n",
    "# List of ID of superpixel that overlaps with the fixation point\n",
    "obj_ids = []\n",
    "\n",
    "for i in range(1):\n",
    "    image = get_smaller_image(vid, i)\n",
    "    sp.num_superpixels = 100\n",
    "    maps = sp.extract_superpixels(image)\n",
    "    maps_list.append(maps)\n",
    "\n",
    "    # fixation point is assumed to be at the center of the image.\n",
    "    fp = maps[int(image.shape[0]/2.0), int(image.shape[1]/2.0)]\n",
    "    obj_ids.append(fp)\n",
    "\n",
    "\n",
    "# Learn background and object color models\n",
    "clf_b = GaussianMixture(n_components=1, random_state=42)\n",
    "clf_o = GaussianMixture(n_components=1, random_state=42)\n",
    "\n",
    "for m, maps in enumerate(maps_list):\n",
    "    max_sp_id = np.max(maps)\n",
    "    obj_id = obj_ids[m]\n",
    "    image = get_smaller_image(vid, i)\n",
    "    for i in range(max_sp_id+1):\n",
    "        superpixel = image[maps == i]\n",
    "        if i == obj_id:\n",
    "            clf_o.fit(process_superpixel(superpixel))\n",
    "        else:\n",
    "            clf_b.fit(process_superpixel(superpixel))\n",
    "    print(clf_o.means_)\n",
    "    print(clf_b.means_)"
   ]
  },
  {
   "cell_type": "code",
   "execution_count": 92,
   "metadata": {},
   "outputs": [
    {
     "data": {
      "text/plain": [
       "[42]"
      ]
     },
     "execution_count": 92,
     "metadata": {},
     "output_type": "execute_result"
    }
   ],
   "source": [
    "obj_ids"
   ]
  },
  {
   "cell_type": "code",
   "execution_count": 93,
   "metadata": {},
   "outputs": [
    {
     "name": "stdout",
     "output_type": "stream",
     "text": [
      "[ 1.]\n",
      "[[ 143.32792208  137.42316017  120.57251082]]\n",
      "[[[ 106.54290101  101.53547886  102.77762903]\n",
      "  [ 101.53547886  101.099075    103.13544185]\n",
      "  [ 102.77762903  103.13544185  108.40708084]]]\n"
     ]
    }
   ],
   "source": [
    "print(clf_b.weights_)\n",
    "print(clf_b.means_)\n",
    "print(clf_b.covariances_)"
   ]
  },
  {
   "cell_type": "code",
   "execution_count": 94,
   "metadata": {
    "scrolled": false
   },
   "outputs": [
    {
     "name": "stdout",
     "output_type": "stream",
     "text": [
      "[ 1.]\n",
      "[[ 76.11658654  75.87259615  68.45552885]]\n",
      "[[[ 2004.00563935  2017.26004588  2058.81107416]\n",
      "  [ 2017.26004588  2041.93208657  2084.49974286]\n",
      "  [ 2058.81107416  2084.49974286  2132.07614832]]]\n"
     ]
    }
   ],
   "source": [
    "print(clf_o.weights_)\n",
    "print(clf_o.means_)\n",
    "print(clf_o.covariances_)"
   ]
  },
  {
   "cell_type": "code",
   "execution_count": 96,
   "metadata": {
    "scrolled": false
   },
   "outputs": [
    {
     "data": {
      "image/png": "[encoded data removed]",
      "text/plain": [
       "<matplotlib.figure.Figure at 0x7f49d1dbe1d0>"
      ]
     },
     "metadata": {},
     "output_type": "display_data"
    }
   ],
   "source": [
    "# Just going to do inference on the first image to see how it works.\n",
    "m = 0\n",
    "maps = maps_list[0]\n",
    "\n",
    "# IDs of superpixels to display\n",
    "show_sp_ids = []\n",
    "threshold = 1\n",
    "    \n",
    "max_sp_id = np.max(maps)\n",
    "obj_id = obj_ids[m]\n",
    "image = get_smaller_image(vid, 0)\n",
    "scores = []\n",
    "for i in range(max_sp_id+1):\n",
    "        superpixel = image[maps == i]\n",
    "#         print(superpixel)\n",
    "        score = calculate_score(clf_o, clf_b, superpixel)\n",
    "#         if i == obj_id:\n",
    "#             print(\"SHOULD BE OBJECT\")\n",
    "#         print(score)\n",
    "        scores.append(score)\n",
    "        if score >= threshold:\n",
    "            show_sp_ids.append(i)\n",
    "# print(scores)\n",
    "display_superpixels(image, maps, show_sp_ids)\n",
    "plt.show()"
   ]
  },
  {
   "cell_type": "code",
   "execution_count": null,
   "metadata": {
    "collapsed": true
   },
   "outputs": [],
   "source": []
  }
 ],
 "metadata": {
  "kernelspec": {
   "display_name": "Python 3",
   "language": "python",
   "name": "python3"
  },
  "language_info": {
   "codemirror_mode": {
    "name": "ipython",
    "version": 3
   },
   "file_extension": ".py",
   "mimetype": "text/x-python",
   "name": "python",
   "nbconvert_exporter": "python",
   "pygments_lexer": "ipython3",
   "version": "3.6.3"
  }
 },
 "nbformat": 4,
 "nbformat_minor": 2
}
