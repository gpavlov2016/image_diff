{
 "cells": [
  {
   "cell_type": "code",
   "execution_count": 77,
   "metadata": {},
   "outputs": [
    {
     "name": "stdout",
     "output_type": "stream",
     "text": [
      "GaussianMixture(covariance_type='full', init_params='kmeans', max_iter=100,\n",
      "        means_init=None, n_components=1, n_init=1, precisions_init=None,\n",
      "        random_state=None, reg_covar=1e-06, tol=0.001, verbose=0,\n",
      "        verbose_interval=10, warm_start=False, weights_init=None)\n",
      "[[ 119.99562099]]\n"
     ]
    }
   ],
   "source": [
    "from sklearn.mixture import GaussianMixture\n",
    "import numpy as np\n",
    "import math\n",
    "\n",
    "# Fit\n",
    "mu, sigma = 120, 0.5\n",
    "mu1, sigma1 = 120, 0.5\n",
    "X = np.concatenate((np.random.normal(mu, sigma, (10000,1)),\n",
    "                   np.random.normal(mu1, sigma1, (9000,1))))\n",
    "clf = GaussianMixture(n_components=1)\n",
    "print(clf.fit(X))\n",
    "print(clf.means_)\n",
    "# print(\"cov:\", clf.covariances_, \"std 1:\", math.sqrt(clf.covariances_[0]), \"std 2:\", math.sqrt(clf.covariances_[1]))"
   ]
  },
  {
   "cell_type": "code",
   "execution_count": 91,
   "metadata": {},
   "outputs": [
    {
     "name": "stdout",
     "output_type": "stream",
     "text": [
      "GaussianMixture(covariance_type='tied', init_params='kmeans', max_iter=100,\n",
      "        means_init=None, n_components=1, n_init=1, precisions_init=None,\n",
      "        random_state=None, reg_covar=1e-06, tol=0.001, verbose=0,\n",
      "        verbose_interval=10, warm_start=False, weights_init=None)\n",
      "[[ 119.99893555]]\n",
      "-0.723764226011\n"
     ]
    }
   ],
   "source": [
    "from sklearn.mixture import GaussianMixture\n",
    "import numpy as np\n",
    "import math\n",
    "\n",
    "# Fit\n",
    "mu, sigma = 120, 0.5\n",
    "X = np.random.normal(mu, sigma, (10000,1))\n",
    "clf = GaussianMixture(n_components=1, covariance_type=\"tied\")\n",
    "print(clf.fit(X))\n",
    "print(clf.means_)\n",
    "# print(\"cov:\", clf.covariances_, \"std 1:\", math.sqrt(clf.covariances_[0]), \"std 2:\", math.sqrt(clf.covariances_[1]))\n",
    "# print(clf.score(X))"
   ]
  },
  {
   "cell_type": "code",
   "execution_count": 89,
   "metadata": {},
   "outputs": [
    {
     "name": "stdout",
     "output_type": "stream",
     "text": [
      "(1, 1)\n",
      "[[ 1.]]\n"
     ]
    }
   ],
   "source": [
    "# Predict\n",
    "mu, sigma = 111, 0.5\n",
    "mu1, sigma1 = 50, 0.5\n",
    "X_test = np.concatenate((np.random.normal(mu, sigma, (5,1)),\n",
    "                         np.random.normal(mu1, sigma1, (5,1))))\n",
    "X_test = np.array([[-100]])\n",
    "pred = clf.predict_proba(X_test)\n",
    "\n",
    "print(pred.shape)\n",
    "print(pred)"
   ]
  },
  {
   "cell_type": "code",
   "execution_count": 69,
   "metadata": {},
   "outputs": [
    {
     "name": "stdout",
     "output_type": "stream",
     "text": [
      "(1,)\n",
      "[1]\n"
     ]
    }
   ],
   "source": [
    "# Predict\n",
    "mu, sigma = 90, 0.5\n",
    "mu1, sigma1 = 50, 0.5\n",
    "X_test = np.concatenate((np.random.normal(mu, sigma, (5,1)),\n",
    "                         np.random.normal(mu1, sigma1, (5,1))))\n",
    "X_test = np.array([[120]])\n",
    "pred = clf.predict(X_test)\n",
    "\n",
    "print(pred.shape)\n",
    "print(pred)"
   ]
  }
 ],
 "metadata": {
  "kernelspec": {
   "display_name": "Python 3",
   "language": "python",
   "name": "python3"
  },
  "language_info": {
   "codemirror_mode": {
    "name": "ipython",
    "version": 3
   },
   "file_extension": ".py",
   "mimetype": "text/x-python",
   "name": "python",
   "nbconvert_exporter": "python",
   "pygments_lexer": "ipython3",
   "version": "3.6.3"
  }
 },
 "nbformat": 4,
 "nbformat_minor": 2
}
