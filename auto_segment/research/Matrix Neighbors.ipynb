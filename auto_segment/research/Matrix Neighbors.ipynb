{
 "cells": [
  {
   "cell_type": "markdown",
   "metadata": {},
   "source": [
    "Find neighbors of a Matrix\n",
    "\n",
    "https://stackoverflow.com/questions/38073433/determine-adjacent-regions-in-numpy-array\n",
    "\n"
   ]
  },
  {
   "cell_type": "code",
   "execution_count": 9,
   "metadata": {},
   "outputs": [
    {
     "name": "stdout",
     "output_type": "stream",
     "text": [
      "{0, 1, 3}\n"
     ]
    }
   ],
   "source": [
    "import numpy as np\n",
    "\n",
    "x = np.array([[1, 1, 1, 0],\n",
    "              [1, 1, 2, 0],\n",
    "              [2, 2, 2, 0],\n",
    "              [3, 3, 3, 3]], np.int32)\n",
    "\n",
    "def find_neighbors(sp_map, sp_id):\n",
    "    y = sp_map == sp_id  # convert to Boolean\n",
    "\n",
    "    rolled = np.roll(y, 1, axis=0)          # shift down\n",
    "    rolled[0, :] = False             \n",
    "    z = np.logical_or(y, rolled)\n",
    "\n",
    "    rolled = np.roll(y, -1, axis=0)         # shift up \n",
    "    rolled[-1, :] = False\n",
    "    z = np.logical_or(z, rolled)\n",
    "\n",
    "    rolled = np.roll(y, 1, axis=1)          # shift right\n",
    "    rolled[:, 0] = False\n",
    "    z = np.logical_or(z, rolled)\n",
    "\n",
    "    rolled = np.roll(y, -1, axis=1)         # shift left\n",
    "    rolled[:, -1] = False\n",
    "    z = np.logical_or(z, rolled)\n",
    "\n",
    "    neighbors = set(np.unique(np.extract(z, sp_map))) - set([region])\n",
    "    return neighbors\n",
    "print(find_neighbors(x, 0))"
   ]
  },
  {
   "cell_type": "code",
   "execution_count": 15,
   "metadata": {},
   "outputs": [
    {
     "data": {
      "text/plain": [
       "array([[1, 1, 1, 0],\n",
       "       [4, 4, 2, 0],\n",
       "       [2, 2, 2, 0],\n",
       "       [3, 3, 3, 3]], dtype=int32)"
      ]
     },
     "execution_count": 15,
     "metadata": {},
     "output_type": "execute_result"
    }
   ],
   "source": [
    "y = x.copy()\n",
    "y[1,[0, 1]] = 4\n",
    "y"
   ]
  }
 ],
 "metadata": {
  "kernelspec": {
   "display_name": "Python 3",
   "language": "python",
   "name": "python3"
  },
  "language_info": {
   "codemirror_mode": {
    "name": "ipython",
    "version": 3
   },
   "file_extension": ".py",
   "mimetype": "text/x-python",
   "name": "python",
   "nbconvert_exporter": "python",
   "pygments_lexer": "ipython3",
   "version": "3.6.3"
  }
 },
 "nbformat": 4,
 "nbformat_minor": 2
}
