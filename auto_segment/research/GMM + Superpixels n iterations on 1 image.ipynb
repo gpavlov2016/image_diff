{
 "cells": [
  {
   "cell_type": "code",
   "execution_count": 1,
   "metadata": {
    "collapsed": true
   },
   "outputs": [],
   "source": [
    "from sklearn.mixture import GaussianMixture\n",
    "import cv2\n",
    "import imageio\n",
    "import numpy as np\n",
    "import pdb\n",
    "import math\n",
    "from matplotlib import pyplot as plt\n",
    "import random\n",
    "\n",
    "import sys\n",
    "sys.path.append(\"../\");\n",
    "import superpixels as sp\n",
    "from helpers import get_smaller_image\n",
    "from models import *\n",
    "\n",
    "filename = '../data/toothpick.mp4'\n",
    "vid = imageio.get_reader(filename, 'ffmpeg')"
   ]
  },
  {
   "cell_type": "code",
   "execution_count": 1,
   "metadata": {
    "collapsed": true
   },
   "outputs": [],
   "source": [
    "def display_superpixels(image, mask, sp_ids):\n",
    "    out = np.zeros(image.shape).astype(np.uint8) # astype is needed otherwise show weird colors.\n",
    "    idx = np.zeros(mask.shape)\n",
    "    for i in sp_ids:\n",
    "        idx = (mask==i)\n",
    "        out[idx] = image[idx]\n",
    "    plt.imshow(out)    \n",
    "\n",
    "def calculate_score(clf_o, clf_b, superpixel):\n",
    "#     score_o = math.exp(clf_o.score(np.array(superpixel)))\n",
    "#     score_b = math.exp(clf_b.score(np.array(superpixel)))\n",
    "    score_o = clf_o.score(np.array(superpixel))\n",
    "    score_b = clf_b.score(np.array(superpixel))\n",
    "    if (score_o + score_b) == 0:\n",
    "        return 0\n",
    "    else:\n",
    "        return (score_o / (score_o + score_b))\n",
    "\n",
    "def split_superpixels(image, maps, obj_ids):\n",
    "    max_sp_id = np.max(maps)\n",
    "    sp_o = []\n",
    "    sp_b = []\n",
    "    for i in range(max_sp_id+1):\n",
    "        superpixel = image[maps == i]\n",
    "        if i in obj_ids:\n",
    "            sp_o.append(process_superpixel(superpixel))\n",
    "        else:\n",
    "            sp_b.append(process_superpixel(superpixel))\n",
    "    sp_b = np.array(sp_b)\n",
    "    random.sample(range(len(sp_b)), int(len(sp_b)/2))\n",
    "    return (sp_o, sp_b)"
   ]
  },
  {
   "cell_type": "code",
   "execution_count": 2,
   "metadata": {
    "scrolled": false
   },
   "outputs": [
    {
     "ename": "NameError",
     "evalue": "name 'get_smaller_image' is not defined",
     "output_type": "error",
     "traceback": [
      "\u001b[0;31m---------------------------------------------------------------------------\u001b[0m",
      "\u001b[0;31mNameError\u001b[0m                                 Traceback (most recent call last)",
      "\u001b[0;32m<ipython-input-2-92b8231367a9>\u001b[0m in \u001b[0;36m<module>\u001b[0;34m()\u001b[0m\n\u001b[1;32m     10\u001b[0m \u001b[0;34m\u001b[0m\u001b[0m\n\u001b[1;32m     11\u001b[0m \u001b[0;32mfor\u001b[0m \u001b[0mi\u001b[0m \u001b[0;32min\u001b[0m \u001b[0mrange\u001b[0m\u001b[0;34m(\u001b[0m\u001b[0;36m1\u001b[0m\u001b[0;34m)\u001b[0m\u001b[0;34m:\u001b[0m\u001b[0;34m\u001b[0m\u001b[0m\n\u001b[0;32m---> 12\u001b[0;31m     \u001b[0mimage\u001b[0m \u001b[0;34m=\u001b[0m \u001b[0mget_smaller_image\u001b[0m\u001b[0;34m(\u001b[0m\u001b[0mvid\u001b[0m\u001b[0;34m,\u001b[0m \u001b[0mi\u001b[0m\u001b[0;34m)\u001b[0m\u001b[0;34m\u001b[0m\u001b[0m\n\u001b[0m\u001b[1;32m     13\u001b[0m     \u001b[0msp\u001b[0m\u001b[0;34m.\u001b[0m\u001b[0mnum_superpixels\u001b[0m \u001b[0;34m=\u001b[0m \u001b[0;36m300\u001b[0m\u001b[0;34m\u001b[0m\u001b[0m\n\u001b[1;32m     14\u001b[0m     \u001b[0mmaps\u001b[0m \u001b[0;34m=\u001b[0m \u001b[0msp\u001b[0m\u001b[0;34m.\u001b[0m\u001b[0mextract_superpixels\u001b[0m\u001b[0;34m(\u001b[0m\u001b[0mimage\u001b[0m\u001b[0;34m)\u001b[0m\u001b[0;34m\u001b[0m\u001b[0m\n",
      "\u001b[0;31mNameError\u001b[0m: name 'get_smaller_image' is not defined"
     ]
    }
   ],
   "source": [
    "# We will work only on one image iteratively\n",
    "maps = None\n",
    "image = None\n",
    "\n",
    "# Initial superpixel id that contains object.\n",
    "init_obj_id = None \n",
    "\n",
    "threshold = 0.5\n",
    "# threshold = 1.0\n",
    "\n",
    "for i in range(1):\n",
    "    image = get_smaller_image(vid, i)\n",
    "    sp.num_superpixels = 300\n",
    "    maps = sp.extract_superpixels(image)\n",
    "\n",
    "    # fixation point is assumed to be at the center of the image.\n",
    "    init_obj_id = maps[int(image.shape[0]/2.0), int(image.shape[1]/2.0)]\n",
    "\n",
    "plt.figure()\n",
    "plt.imshow(image)\n",
    "plt.text(0, -10, \"original image\")\n",
    "# Learn object and background color models\n",
    "clf_o = GaussianMixture(n_components=2, random_state=42)\n",
    "clf_b = GaussianMixture(n_components=2, random_state=42)\n",
    "\n",
    "def train_iterate(clf_o, clf_b, obj_ids, image, maps):\n",
    "    \"\"\" Training iteratively.\n",
    "    \n",
    "    `clf_o`, `clf_b` can be used for the next\n",
    "    training iteration.\n",
    "    \n",
    "    Returns: result_obj_ids to be used in the next\n",
    "             training iteration.\n",
    "    \"\"\"\n",
    "    global threshold\n",
    "    result_obj_ids = []\n",
    "    scores = []\n",
    "    max_sp_id = np.max(maps)\n",
    "    objects, backgrounds = split_superpixels(image, maps, obj_ids)\n",
    "    for o in objects:\n",
    "        if o.shape[0] > 0:\n",
    "            clf_o.fit(o)\n",
    "    for b in backgrounds:\n",
    "        if b.shape[0] > 0:\n",
    "            clf_b.fit(b)\n",
    "#     print(clf_o.means_)\n",
    "#     print(clf_b.means_)\n",
    "    # Get object ids that we can use for next training iteration\n",
    "    for i in range(max_sp_id+1):\n",
    "        superpixel = image[maps == i]\n",
    "        if superpixel.shape[0] > 0:\n",
    "            score = calculate_score(clf_o, clf_b, superpixel)\n",
    "        else:\n",
    "            score = 0\n",
    "        scores.append(score)\n",
    "        if score >= threshold:\n",
    "            result_obj_ids.append(i)\n",
    "#     print(scores)\n",
    "    plt.figure()\n",
    "    plt.bar(scores, np.arange(max_sp_id+1), 1/len(scores))\n",
    "    plt.xlim(0,1.0)\n",
    "    plt.text(0.01,77,\"errors\")\n",
    "#     print(result_obj_ids)\n",
    "    plt.figure()\n",
    "    display_superpixels(image, maps, obj_ids)\n",
    "    plt.text(0,-10,\"labels\")\n",
    "    plt.figure()\n",
    "    display_superpixels(image, maps, result_obj_ids)\n",
    "    plt.text(0,-10,\"predicted\")\n",
    "    \n",
    "    return result_obj_ids\n",
    "\n",
    "obj_ids = [init_obj_id]\n",
    "for i in range(20):\n",
    "    obj_ids = train_iterate(clf_o, clf_b, obj_ids, image, maps)\n",
    "\n",
    "plt.show()"
   ]
  },
  {
   "cell_type": "code",
   "execution_count": 4,
   "metadata": {
    "scrolled": true
   },
   "outputs": [
    {
     "name": "stdout",
     "output_type": "stream",
     "text": [
      "[ 0.28702955  0.71297045]\n",
      "[[ 156.47727098  150.03838264  133.85667833]\n",
      " [ 138.03422206  132.34449021  115.22453518]]\n",
      "[[[ 47.31106339  43.71400059  42.15641087]\n",
      "  [ 43.71400059  43.61491632  44.16755776]\n",
      "  [ 42.15641087  44.16755776  50.38312664]]\n",
      "\n",
      " [[ 32.75664414  31.14724546  28.54970452]\n",
      "  [ 31.14724546  34.37976111  32.24838434]\n",
      "  [ 28.54970452  32.24838434  32.1222715 ]]]\n"
     ]
    }
   ],
   "source": [
    "print(clf_b.weights_)\n",
    "print(clf_b.means_)\n",
    "print(clf_b.covariances_)"
   ]
  },
  {
   "cell_type": "code",
   "execution_count": 5,
   "metadata": {
    "scrolled": false
   },
   "outputs": [
    {
     "name": "stdout",
     "output_type": "stream",
     "text": [
      "[ 0.50937768  0.49062232]\n",
      "[[ 161.52888319  160.23660644  152.35156275]\n",
      " [ 176.11446898  176.34856968  170.50777946]]\n",
      "[[[ 28.19647554  29.16665002  29.65121891]\n",
      "  [ 29.16665002  31.63232074  32.09497163]\n",
      "  [ 29.65121891  32.09497163  33.7896152 ]]\n",
      "\n",
      " [[ 16.91664427  18.18185728  17.60731595]\n",
      "  [ 18.18185728  20.53711693  19.16876579]\n",
      "  [ 17.60731595  19.16876579  20.88807671]]]\n"
     ]
    }
   ],
   "source": [
    "print(clf_o.weights_)\n",
    "print(clf_o.means_)\n",
    "print(clf_o.covariances_)"
   ]
  },
  {
   "cell_type": "code",
   "execution_count": null,
   "metadata": {
    "collapsed": true
   },
   "outputs": [],
   "source": []
  }
 ],
 "metadata": {
  "kernelspec": {
   "display_name": "Python 3",
   "language": "python",
   "name": "python3"
  },
  "language_info": {
   "codemirror_mode": {
    "name": "ipython",
    "version": 3
   },
   "file_extension": ".py",
   "mimetype": "text/x-python",
   "name": "python",
   "nbconvert_exporter": "python",
   "pygments_lexer": "ipython3",
   "version": "3.6.3"
  }
 },
 "nbformat": 4,
 "nbformat_minor": 2
}
